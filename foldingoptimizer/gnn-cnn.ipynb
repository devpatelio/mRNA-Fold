{
 "cells": [
  {
   "cell_type": "markdown",
   "metadata": {},
   "source": [
    "## Graphs: \n",
    "\n",
    "Denoted as ` G = (V, E) `\n",
    "Problem statement -> node = `v`, feature = `x_v`, label = `t_v`\n",
    "                  -> node = `h_v` [contains information on neighbourhood]\n",
    "                  ->  `x_co[v]` = features of edges onneting with `v`\n",
    "                  -> `h_ne[v]` = features of neighboring nodes of v\n",
    "                  -> function `f` = transition function that projects inputs onto a d-dimensional space\n",
    "                    - goal is to find unique solution of h_v \n",
    "\n",
    "```\n",
    "v = [x_v, t_v]\n",
    "h_v = f(x_v, x_co[v], h_ne[v], x_ne[v])\n",
    "```\n",
    "\n",
    "Banah fixed point theorem = **neighbourhood aggregation**\n",
    "`H^t+1 = F(H^t, X)`"
   ]
  },
  {
   "cell_type": "code",
   "execution_count": null,
   "metadata": {},
   "outputs": [],
   "source": [
    "import torch\n",
    "import pandas as pd\n",
    "import numpy as np\n",
    "import matplotlib.pyplot as plt\n",
    "from torch.utils.data import TensorDataset, Dataset, DataLoader\n",
    "from torch.utils.data.sampler import SubsetRandomSampler\n",
    "from sklearn.model_selection import KFold, StratifiedKFold\n",
    "from tqdm.auto import tqdm\n",
    "import random\n",
    "import os\n",
    "from copy import deepcopy\n",
    "import math\n",
    "from glob import glob\n",
    "from torch import nn\n",
    "import functools\n",
    "import shutil\n",
    "from collections import OrderedDict\n",
    "from fastprogress import progress_bar\n",
    "import torch.nn.functional as F\n",
    "import sklearn.metrics as metrics\n",
    "import torchvision\n",
    "import torchvision.transforms as transforms\n",
    "import torchvision.datasets as datasets\n",
    "\n",
    "import torch\n",
    "import torch.nn as nn\n",
    "import torch.nn.functional as F\n",
    "import torchvision\n",
    "import torchvision.transforms as transforms\n",
    "import sklearn.metrics as metrics\n",
    "import torch_geometric\n",
    "import torch_geometric.data\n",
    "import torch_geometric.nn\n",
    "\n",
    "#Creating example data object and store as x,y"
   ]
  }
 ],
 "metadata": {
  "interpreter": {
   "hash": "aee8b7b246df8f9039afb4144a1f6fd8d2ca17a180786b69acc140d282b71a49"
  },
  "kernelspec": {
   "display_name": "Python 3.9.0 64-bit",
   "language": "python",
   "name": "python3"
  },
  "language_info": {
   "codemirror_mode": {
    "name": "ipython",
    "version": 3
   },
   "file_extension": ".py",
   "mimetype": "text/x-python",
   "name": "python",
   "nbconvert_exporter": "python",
   "pygments_lexer": "ipython3",
   "version": "3.9.0"
  },
  "orig_nbformat": 4
 },
 "nbformat": 4,
 "nbformat_minor": 2
}
